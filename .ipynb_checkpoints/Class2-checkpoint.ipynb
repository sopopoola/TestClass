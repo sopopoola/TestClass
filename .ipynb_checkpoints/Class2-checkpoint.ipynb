{
 "cells": [
  {
   "cell_type": "code",
   "execution_count": 1,
   "id": "b70c7986",
   "metadata": {},
   "outputs": [],
   "source": [
    "import random"
   ]
  },
  {
   "cell_type": "code",
   "execution_count": 5,
   "id": "7f26e884",
   "metadata": {},
   "outputs": [
    {
     "name": "stdout",
     "output_type": "stream",
     "text": [
      "12\n"
     ]
    }
   ],
   "source": [
    "print(random.randint(1,15))"
   ]
  },
  {
   "cell_type": "code",
   "execution_count": 8,
   "id": "0e9b5026",
   "metadata": {},
   "outputs": [
    {
     "name": "stdout",
     "output_type": "stream",
     "text": [
      "enter a number betweeen 1 and 108\n",
      "your guess is too low\n",
      "enter a number betweeen 1 and 1010\n",
      "you guessed correctly\n",
      "The correct guess is:  10\n"
     ]
    }
   ],
   "source": [
    "number = random.randint(1,10)\n",
    "i=0\n",
    "while i<3:\n",
    "    guess = int(input(\"enter a number betweeen 1 and 10\"))\n",
    "    if guess > number:\n",
    "        print(\"your guess is too high\")\n",
    "    elif guess < number:\n",
    "        print(\"your guess is too low\")\n",
    "    else:\n",
    "        print (\"you guessed correctly\")\n",
    "        break\n",
    "    i= i+1\n",
    "if i>=3:\n",
    "    print(\"sorry you lost, try again\")\n",
    "print(\"The correct guess is: \",number)\n"
   ]
  },
  {
   "cell_type": "code",
   "execution_count": null,
   "id": "28508d18",
   "metadata": {},
   "outputs": [],
   "source": []
  }
 ],
 "metadata": {
  "kernelspec": {
   "display_name": "Python 3 (ipykernel)",
   "language": "python",
   "name": "python3"
  },
  "language_info": {
   "codemirror_mode": {
    "name": "ipython",
    "version": 3
   },
   "file_extension": ".py",
   "mimetype": "text/x-python",
   "name": "python",
   "nbconvert_exporter": "python",
   "pygments_lexer": "ipython3",
   "version": "3.9.7"
  }
 },
 "nbformat": 4,
 "nbformat_minor": 5
}
