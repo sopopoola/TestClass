{
 "cells": [
  {
   "cell_type": "code",
   "execution_count": 1,
   "id": "7ed872cf",
   "metadata": {},
   "outputs": [],
   "source": [
    "import random"
   ]
  },
  {
   "cell_type": "code",
   "execution_count": 5,
   "id": "32f2e8c5",
   "metadata": {},
   "outputs": [
    {
     "name": "stdout",
     "output_type": "stream",
     "text": [
      "12\n"
     ]
    }
   ],
   "source": [
    "print(random.randint(1,15))"
   ]
  },
  {
   "cell_type": "code",
   "execution_count": 7,
   "id": "8797a549",
   "metadata": {},
   "outputs": [
    {
     "name": "stdout",
     "output_type": "stream",
     "text": [
      "enter a number betweeen 1 and 106\n",
      "your guess is too high\n",
      "The correct guess is:  2\n"
     ]
    }
   ],
   "source": [
    "number = random.randint(1,10)\n",
    "guess = int(input(\"enter a number betweeen 1 and 10\"))\n",
    "if guess > number:\n",
    "    print(\"your guess is too high\")\n",
    "elif guess < number:\n",
    "    print(\"your guess is too low\")\n",
    "else:\n",
    "    print (\"you guessed correctly\")\n",
    "print(\"The correct guess is: \",number)"
   ]
  },
  {
   "cell_type": "code",
   "execution_count": null,
   "id": "2951d91f",
   "metadata": {},
   "outputs": [],
   "source": []
  }
 ],
 "metadata": {
  "kernelspec": {
   "display_name": "Python 3 (ipykernel)",
   "language": "python",
   "name": "python3"
  },
  "language_info": {
   "codemirror_mode": {
    "name": "ipython",
    "version": 3
   },
   "file_extension": ".py",
   "mimetype": "text/x-python",
   "name": "python",
   "nbconvert_exporter": "python",
   "pygments_lexer": "ipython3",
   "version": "3.9.7"
  }
 },
 "nbformat": 4,
 "nbformat_minor": 5
}
